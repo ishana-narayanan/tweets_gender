{
 "cells": [
  {
   "cell_type": "markdown",
   "metadata": {},
   "source": [
    "# Twitter Gender Classification\n",
    "### Final Project\n",
    "\n",
    "#### University of California, Santa Barbara\n",
    "#### PSTAT 135: Big Data Analytics"
   ]
  },
  {
   "cell_type": "markdown",
   "metadata": {},
   "source": [
    "Source: https://www.kaggle.com/crowdflower/twitter-user-gender-classification"
   ]
  },
  {
   "cell_type": "markdown",
   "metadata": {},
   "source": [
    "# Dataset Preprocessing"
   ]
  },
  {
   "cell_type": "markdown",
   "metadata": {},
   "source": [
    "The dataset contains about 20,000 rows, each with a user name, a random tweet, profile image and statistics, location, and link and sidebar color. All tweets were posted in 2015."
   ]
  },
  {
   "cell_type": "code",
   "execution_count": 1,
   "metadata": {},
   "outputs": [],
   "source": [
    "from pyspark.sql import SparkSession\n",
    "spark = SparkSession \\\n",
    "        .builder \\\n",
    "        .appName(\"comm\") \\\n",
    "        .getOrCreate()\n",
    "\n",
    "tweets = spark.read.csv('gender_data.csv', header = True)"
   ]
  },
  {
   "cell_type": "code",
   "execution_count": 2,
   "metadata": {},
   "outputs": [
    {
     "data": {
      "text/plain": [
       "pyspark.sql.dataframe.DataFrame"
      ]
     },
     "execution_count": 2,
     "metadata": {},
     "output_type": "execute_result"
    }
   ],
   "source": [
    "type(tweets)"
   ]
  },
  {
   "cell_type": "code",
   "execution_count": 3,
   "metadata": {},
   "outputs": [
    {
     "data": {
      "text/plain": [
       "24230"
      ]
     },
     "execution_count": 3,
     "metadata": {},
     "output_type": "execute_result"
    }
   ],
   "source": [
    "tweets.count()"
   ]
  },
  {
   "cell_type": "code",
   "execution_count": 4,
   "metadata": {},
   "outputs": [
    {
     "data": {
      "text/plain": [
       "['_unit_id',\n",
       " '_golden',\n",
       " '_unit_state',\n",
       " '_trusted_judgments',\n",
       " '_last_judgment_at',\n",
       " 'gender',\n",
       " 'gender:confidence',\n",
       " 'profile_yn',\n",
       " 'profile_yn:confidence',\n",
       " 'created',\n",
       " 'description',\n",
       " 'fav_number',\n",
       " 'gender_gold',\n",
       " 'link_color',\n",
       " 'name',\n",
       " 'profile_yn_gold',\n",
       " 'profileimage',\n",
       " 'retweet_count',\n",
       " 'sidebar_color',\n",
       " 'text',\n",
       " 'tweet_coord',\n",
       " 'tweet_count',\n",
       " 'tweet_created',\n",
       " 'tweet_id',\n",
       " 'tweet_location',\n",
       " 'user_timezone']"
      ]
     },
     "execution_count": 4,
     "metadata": {},
     "output_type": "execute_result"
    }
   ],
   "source": [
    "tweets.columns"
   ]
  },
  {
   "cell_type": "markdown",
   "metadata": {},
   "source": [
    "We remove columns `_unit_id`, `_golden`, `_unit_state`, `_last_judgment_at`,`_trusted_judgments`, `gender:confidence`, `profile_yn`, `profile_yn:confidence`, `description`, `gender_gold`, `link_color`,`name`, `profile_yn_gold`, `profileimage`, `sidebar_color`, `tweet_coord`, `tweet_id`, `tweet_location`, and `user_timezone` because they were not relevant in our model/purpose...."
   ]
  },
  {
   "cell_type": "code",
   "execution_count": 5,
   "metadata": {},
   "outputs": [
    {
     "name": "stdout",
     "output_type": "stream",
     "text": [
      "+------+--------------+----------+-------------+--------------------+-----------+--------------+\n",
      "|gender|       created|fav_number|retweet_count|                text|tweet_count| tweet_created|\n",
      "+------+--------------+----------+-------------+--------------------+-----------+--------------+\n",
      "|  male|  12/5/13 1:48|         0|            0|Robbie E Responds...|     110964|10/26/15 12:40|\n",
      "|  male| 10/1/12 13:51|        68|            0|���It felt like t...|       7471|10/26/15 12:40|\n",
      "|  male|11/28/14 11:30|      7696|            1|i absolutely ador...|       5617|10/26/15 12:40|\n",
      "|  male| 6/11/09 22:39|       202|            0|Hi @JordanSpieth ...|       1693|10/26/15 12:40|\n",
      "|female| 4/16/14 13:23|     37318|            0|Watching Neighbou...|      31462|10/26/15 12:40|\n",
      "+------+--------------+----------+-------------+--------------------+-----------+--------------+\n",
      "only showing top 5 rows\n",
      "\n"
     ]
    }
   ],
   "source": [
    "tweets = tweets.select(['gender','created','fav_number','retweet_count','text','tweet_count','tweet_created'])\n",
    "tweets.show(5)"
   ]
  },
  {
   "cell_type": "code",
   "execution_count": 6,
   "metadata": {},
   "outputs": [
    {
     "name": "stdout",
     "output_type": "stream",
     "text": [
      "+--------------------+-----+\n",
      "|              gender|count|\n",
      "+--------------------+-----+\n",
      "|              female| 6700|\n",
      "|                male| 6194|\n",
      "|               brand| 5942|\n",
      "|                null| 3188|\n",
      "|             unknown| 1117|\n",
      "|          6.5874E+17|   83|\n",
      "|          6.5873E+17|   62|\n",
      "|              Medina|   14|\n",
      "|              London|   13|\n",
      "|      10/26/15 12:40|   11|\n",
      "|Porto, Portugal �...|   10|\n",
      "|1/16 cute pickle ...|   10|\n",
      "|              0084B4|    9|\n",
      "|Republic of the P...|    8|\n",
      "|                  UK|    7|\n",
      "|                 USA|    7|\n",
      "|         3/4 + band |    6|\n",
      "|              FF005E|    6|\n",
      "|PRE-ORDER MADE IN...|    5|\n",
      "|           New York |    4|\n",
      "+--------------------+-----+\n",
      "only showing top 20 rows\n",
      "\n"
     ]
    }
   ],
   "source": [
    "tweets.groupBy('gender').count().sort('count', ascending = False).show()"
   ]
  },
  {
   "cell_type": "markdown",
   "metadata": {},
   "source": [
    "As we can see above, the `gender` column contains many labels. We decide to keep only the tweets made by a `male`, `female`, or `brand` since they are the most common."
   ]
  },
  {
   "cell_type": "code",
   "execution_count": 7,
   "metadata": {},
   "outputs": [
    {
     "data": {
      "text/plain": [
       "18836"
      ]
     },
     "execution_count": 7,
     "metadata": {},
     "output_type": "execute_result"
    }
   ],
   "source": [
    "tweets = tweets.filter((tweets.gender == 'male') | (tweets.gender == 'female') | (tweets.gender == 'brand'))\n",
    "tweets.count()"
   ]
  },
  {
   "cell_type": "markdown",
   "metadata": {},
   "source": [
    "### Checking for Null Values"
   ]
  },
  {
   "cell_type": "markdown",
   "metadata": {},
   "source": [
    "We will remove any null values in `text` since we are only interested in predicting gender for users with tweets."
   ]
  },
  {
   "cell_type": "code",
   "execution_count": 8,
   "metadata": {},
   "outputs": [
    {
     "data": {
      "text/plain": [
       "1088"
      ]
     },
     "execution_count": 8,
     "metadata": {},
     "output_type": "execute_result"
    }
   ],
   "source": [
    "# Number of null values in \"text\"\n",
    "tweets.filter(tweets.text.isNull()).count()"
   ]
  },
  {
   "cell_type": "code",
   "execution_count": 9,
   "metadata": {},
   "outputs": [
    {
     "data": {
      "text/plain": [
       "17748"
      ]
     },
     "execution_count": 9,
     "metadata": {},
     "output_type": "execute_result"
    }
   ],
   "source": [
    "tweets = tweets.filter(tweets.text.isNotNull())\n",
    "tweets.count()"
   ]
  },
  {
   "cell_type": "markdown",
   "metadata": {},
   "source": [
    "For columns `fav_number`, `retweet_count`, and `tweet_count`:\n",
    "\n",
    "- If more than 10% of the values are null, we will not include that column later on in our model. \n",
    "\n",
    "- If less than 10% of the values are null, we will replace null values with the median of that specific column. We chose median because there is a possibility the mean could be something like 77.5, and you cannot retweet something 77.5 times.\n",
    "\n",
    "- If there are no null values, we will keep the column unchanged."
   ]
  },
  {
   "cell_type": "code",
   "execution_count": 10,
   "metadata": {},
   "outputs": [
    {
     "data": {
      "text/plain": [
       "0.0"
      ]
     },
     "execution_count": 10,
     "metadata": {},
     "output_type": "execute_result"
    }
   ],
   "source": [
    "# Percentage of null values in \"fav_number\"\n",
    "tweets.filter(tweets.fav_number.isNull()).count()/tweets.count()"
   ]
  },
  {
   "cell_type": "code",
   "execution_count": 11,
   "metadata": {},
   "outputs": [
    {
     "data": {
      "text/plain": [
       "0.0"
      ]
     },
     "execution_count": 11,
     "metadata": {},
     "output_type": "execute_result"
    }
   ],
   "source": [
    "# Percentage of null values in \"retweet_count\"\n",
    "tweets.filter(tweets.retweet_count.isNull()).count()/tweets.count()"
   ]
  },
  {
   "cell_type": "code",
   "execution_count": 12,
   "metadata": {},
   "outputs": [
    {
     "data": {
      "text/plain": [
       "0.07093757043047104"
      ]
     },
     "execution_count": 12,
     "metadata": {},
     "output_type": "execute_result"
    }
   ],
   "source": [
    "# Percentage of null values in \"tweet_count\"\n",
    "tweets.filter(tweets.tweet_count.isNull()).count()/tweets.count()"
   ]
  },
  {
   "cell_type": "markdown",
   "metadata": {},
   "source": [
    "Since less than 10% of `tweet_count` values are null, we will replace them with the median value of `tweet_count` during pipeline building."
   ]
  },
  {
   "cell_type": "markdown",
   "metadata": {},
   "source": [
    "# Exploratory Data Analysis"
   ]
  },
  {
   "cell_type": "code",
   "execution_count": 13,
   "metadata": {},
   "outputs": [
    {
     "name": "stdout",
     "output_type": "stream",
     "text": [
      "+------+-----+\n",
      "|gender|count|\n",
      "+------+-----+\n",
      "|female| 6354|\n",
      "|  male| 5776|\n",
      "| brand| 5618|\n",
      "+------+-----+\n",
      "\n"
     ]
    }
   ],
   "source": [
    "tweets.groupBy('gender').count().orderBy('count',ascending=False).show()"
   ]
  },
  {
   "cell_type": "code",
   "execution_count": 14,
   "metadata": {},
   "outputs": [
    {
     "data": {
      "image/png": "[encoded data removed]",
      "text/plain": [
       "<Figure size 432x288 with 1 Axes>"
      ]
     },
     "metadata": {},
     "output_type": "display_data"
    }
   ],
   "source": [
    "# Pie chart of genders\n",
    "import matplotlib.pyplot as plt\n",
    "labels = 'Brand', 'Female', 'Male'\n",
    "sizes = [5618, 6354, 5776]\n",
    "fig1, ax1 = plt.subplots()\n",
    "ax1.pie(sizes, labels=labels, autopct='%1.1f%%',\n",
    "        shadow=True, startangle=90, colors=['lightgreen', 'hotpink', 'deepskyblue'])\n",
    "ax1.axis('equal')\n",
    "plt.title('Gender Distribution of Users')\n",
    "plt.show()"
   ]
  },
  {
   "cell_type": "code",
   "execution_count": 15,
   "metadata": {},
   "outputs": [
    {
     "name": "stdout",
     "output_type": "stream",
     "text": [
      "+------+-----------------+-----------------+-------------------+\n",
      "|gender| avg(tweet_count)|  avg(fav_number)| avg(retweet_count)|\n",
      "+------+-----------------+-----------------+-------------------+\n",
      "|female|26868.96356206368|6039.206956248033|0.04737173434057287|\n",
      "| brand| 63219.3443287037|2086.142043431826|0.11765752936988252|\n",
      "|  male|30534.52625698324|4929.307825484764|0.09279778393351801|\n",
      "+------+-----------------+-----------------+-------------------+\n",
      "\n"
     ]
    }
   ],
   "source": [
    "tweets.groupBy('gender') \\\n",
    "    .agg({'fav_number':'avg','retweet_count':'avg','tweet_count':'avg'}).show()"
   ]
  },
  {
   "cell_type": "code",
   "execution_count": 16,
   "metadata": {},
   "outputs": [
    {
     "data": {
      "image/png": "[encoded data removed]",
      "text/plain": [
       "<Figure size 432x288 with 1 Axes>"
      ]
     },
     "metadata": {
      "needs_background": "light"
     },
     "output_type": "display_data"
    }
   ],
   "source": [
    "# Bar Plot of average number of tweets per account by gender\n",
    "tweet_count_x = ['Brand', 'Female', 'Male']\n",
    "tweet_count_avg = [63219.344329, 26868.963562, 30534.526257]\n",
    "x_pos = [i for i, _ in enumerate(tweet_count_x)]\n",
    "plt.bar(tweet_count_x, tweet_count_avg, color=['limegreen','hotpink','deepskyblue'])\n",
    "plt.ylabel(\"Average\")\n",
    "plt.title(\"Average Number Of Tweets Per Account \\n (by gender)\")\n",
    "plt.xticks(x_pos, tweet_count_x)\n",
    "plt.show()"
   ]
  },
  {
   "cell_type": "code",
   "execution_count": 17,
   "metadata": {},
   "outputs": [
    {
     "data": {
      "image/png": "[encoded data removed]",
      "text/plain": [
       "<Figure size 432x288 with 1 Axes>"
      ]
     },
     "metadata": {
      "needs_background": "light"
     },
     "output_type": "display_data"
    }
   ],
   "source": [
    "# Bar Plot of average number of favorites per account by gender\n",
    "fav_number_x = ['Brand', 'Female', 'Male']\n",
    "fav_number_avg = [2086.142043431826, 6039.206956248033, 4929.307825484764]\n",
    "x_pos = [i for i, _ in enumerate(fav_number_x)]\n",
    "plt.bar(fav_number_x, fav_number_avg, color=['limegreen','hotpink','deepskyblue'])\n",
    "plt.ylabel(\"Average\")\n",
    "plt.title(\"Average Number Of Favorited Tweets Per Account \\n (by gender)\")\n",
    "plt.xticks(x_pos, fav_number_x)\n",
    "plt.show()"
   ]
  },
  {
   "cell_type": "code",
   "execution_count": 18,
   "metadata": {},
   "outputs": [
    {
     "data": {
      "image/png": "[encoded data removed]",
      "text/plain": [
       "<Figure size 432x288 with 1 Axes>"
      ]
     },
     "metadata": {
      "needs_background": "light"
     },
     "output_type": "display_data"
    }
   ],
   "source": [
    "# Bar Plot of average number of retweets per account by gender\n",
    "retweet_count_x = ['Brand', 'Female', 'Male']\n",
    "retweet_count_avg = [0.11765752936988252, 0.04737173434057287, 0.09279778393351801]\n",
    "x_pos = [i for i, _ in enumerate(retweet_count_x)]\n",
    "plt.bar(retweet_count_x, retweet_count_avg, color=['limegreen','hotpink','deepskyblue'])\n",
    "plt.ylabel(\"Average\")\n",
    "plt.title(\"Average Number Of Retweets Per Account \\n (by gender)\")\n",
    "plt.xticks(x_pos, retweet_count_x)\n",
    "plt.show()"
   ]
  },
  {
   "cell_type": "markdown",
   "metadata": {},
   "source": [
    "### Converting Columns to Type Integer"
   ]
  },
  {
   "cell_type": "code",
   "execution_count": 19,
   "metadata": {},
   "outputs": [],
   "source": [
    "tweets = tweets.withColumn(\"fav_number\",tweets[\"fav_number\"].cast('integer'))\n",
    "tweets = tweets.withColumn(\"retweet_count\",tweets[\"retweet_count\"].cast('integer'))\n",
    "tweets = tweets.withColumn(\"tweet_count\",tweets[\"tweet_count\"].cast('integer'))"
   ]
  },
  {
   "cell_type": "markdown",
   "metadata": {},
   "source": [
    "### Creating New Columns for Punctuation Counts, Emoji Existence, and Account Years"
   ]
  },
  {
   "cell_type": "markdown",
   "metadata": {},
   "source": [
    "Getting punctuation counts for each tweet."
   ]
  },
  {
   "cell_type": "code",
   "execution_count": 20,
   "metadata": {},
   "outputs": [],
   "source": [
    "from string import punctuation\n",
    "from collections import Counter\n",
    "def punc_func(tweet):\n",
    "    sum = 0\n",
    "    for key in tweet:\n",
    "        if key in punctuation:\n",
    "            sum += tweet[key]\n",
    "    return sum"
   ]
  },
  {
   "cell_type": "code",
   "execution_count": 21,
   "metadata": {},
   "outputs": [
    {
     "name": "stdout",
     "output_type": "stream",
     "text": [
      "+----+\n",
      "|punc|\n",
      "+----+\n",
      "|  11|\n",
      "|  18|\n",
      "|   5|\n",
      "|  19|\n",
      "|  15|\n",
      "+----+\n",
      "only showing top 5 rows\n",
      "\n"
     ]
    }
   ],
   "source": [
    "punc = tweets.select(\"text\").rdd.map(lambda tweet: Counter(str(tweet))) \\\n",
    "            .map(lambda x: punc_func(x)).map(lambda x: (x, )).toDF(['punc'])\n",
    "punc.show(5)"
   ]
  },
  {
   "cell_type": "markdown",
   "metadata": {},
   "source": [
    "Getting boolean values if an emoji, represented by the character '�', is present in a tweet (True) or not present in a tweet (False)."
   ]
  },
  {
   "cell_type": "code",
   "execution_count": 22,
   "metadata": {},
   "outputs": [
    {
     "name": "stdout",
     "output_type": "stream",
     "text": [
      "+------+\n",
      "|emojis|\n",
      "+------+\n",
      "| false|\n",
      "|  true|\n",
      "| false|\n",
      "| false|\n",
      "|  true|\n",
      "+------+\n",
      "only showing top 5 rows\n",
      "\n"
     ]
    }
   ],
   "source": [
    "emojis = tweets.select(\"text\").rdd.map(lambda tweet: str(tweet)) \\\n",
    "            .map(lambda x: '�' in x).map(lambda x: (x, )).toDF(['emojis'])\n",
    "emojis.show(5)"
   ]
  },
  {
   "cell_type": "markdown",
   "metadata": {},
   "source": [
    "Getting the number of years each Twitter user has had their account."
   ]
  },
  {
   "cell_type": "code",
   "execution_count": 23,
   "metadata": {},
   "outputs": [
    {
     "name": "stdout",
     "output_type": "stream",
     "text": [
      "+-------------+\n",
      "|account_years|\n",
      "+-------------+\n",
      "|            2|\n",
      "|            3|\n",
      "|            1|\n",
      "|            6|\n",
      "|            1|\n",
      "+-------------+\n",
      "only showing top 5 rows\n",
      "\n"
     ]
    }
   ],
   "source": [
    "# extracting only the \"year\" part of 'created' & subtracting it from 15 (representing 2015)\n",
    "years = tweets.rdd.map(lambda row: row['created'].split(' ')) \\\n",
    "                .map(lambda x: x[0]) \\\n",
    "                .map(lambda x: x.split('/')) \\\n",
    "                .map(lambda x: x[2]) \\\n",
    "                .map(lambda x: (15-int(x))) \\\n",
    "                .map(lambda x: (x, )).toDF(['account_years'])\n",
    "years.show(5)"
   ]
  },
  {
   "cell_type": "markdown",
   "metadata": {},
   "source": [
    "### Lowercasing Tweets"
   ]
  },
  {
   "cell_type": "markdown",
   "metadata": {},
   "source": [
    "The last step before we configure our first pipeline is to lowercase the tweets in `text` column."
   ]
  },
  {
   "cell_type": "code",
   "execution_count": 24,
   "metadata": {},
   "outputs": [
    {
     "name": "stdout",
     "output_type": "stream",
     "text": [
      "+-------------------------------------------------------------------------------------------------------------+\n",
      "|text                                                                                                         |\n",
      "+-------------------------------------------------------------------------------------------------------------+\n",
      "|robbie e responds to critics after win against eddie edwards in the #worldtitleseries https://t.co/nsybbmvjkz|\n",
      "+-------------------------------------------------------------------------------------------------------------+\n",
      "only showing top 1 row\n",
      "\n"
     ]
    }
   ],
   "source": [
    "from pyspark.sql.functions import lower, col\n",
    "tweets = tweets.withColumn(\"text\",lower(col('text')))\n",
    "tweets.select(\"text\").show(1, truncate=False)"
   ]
  },
  {
   "cell_type": "markdown",
   "metadata": {},
   "source": [
    "# Pipeline Building"
   ]
  },
  {
   "cell_type": "code",
   "execution_count": 25,
   "metadata": {},
   "outputs": [],
   "source": [
    "from pyspark.ml import Pipeline  \n",
    "from pyspark.ml.feature import * "
   ]
  },
  {
   "cell_type": "markdown",
   "metadata": {},
   "source": [
    "### Pipeline 1\n",
    "For our first pipeline we:\n",
    "- impute median values in `tweet_count`\n",
    "- convert `gender` to numeric type\n",
    "- tokenize and remove stop words in `text`"
   ]
  },
  {
   "cell_type": "code",
   "execution_count": 26,
   "metadata": {},
   "outputs": [],
   "source": [
    "# impute median to null values in \"tweet_count\"\n",
    "imputer = Imputer(inputCols=[\"tweet_count\"], outputCols=[\"tweet_count_new\"]).setStrategy(\"median\")\n",
    "\n",
    "# convert \"gender\" to numeric type (0 = female, 1 = male, 2 = brand)\n",
    "indexer = StringIndexer(inputCol=\"gender\", outputCol=\"gender_num\")\n",
    "\n",
    "# process \"text\"\n",
    "tokenizer = Tokenizer(inputCol=\"text\", outputCol=\"words\") #tokenize\n",
    "remover = StopWordsRemover(inputCol=\"words\", outputCol=\"filtered\") #remove stop words\n",
    "\n",
    "# build pipeline\n",
    "pipeline = Pipeline(stages=[imputer, indexer, tokenizer, remover])\n",
    "\n",
    "# fit & tranform pipeline\n",
    "tweets = pipeline.fit(tweets).transform(tweets)"
   ]
  },
  {
   "cell_type": "markdown",
   "metadata": {},
   "source": [
    "Since ML Feature library does not support stemming, we decide to stem the `text` column using the `SnowballStemmer` package."
   ]
  },
  {
   "cell_type": "code",
   "execution_count": 27,
   "metadata": {},
   "outputs": [
    {
     "name": "stdout",
     "output_type": "stream",
     "text": [
      "+----------------------------------------------------------------------------------------+\n",
      "|stemmed                                                                                 |\n",
      "+----------------------------------------------------------------------------------------+\n",
      "|[robbi, e, respond, critic, win, eddi, edward, #worldtitleseri, https://t.co/nsybbmvjkz]|\n",
      "+----------------------------------------------------------------------------------------+\n",
      "only showing top 1 row\n",
      "\n"
     ]
    }
   ],
   "source": [
    "from pyspark.sql.functions import udf\n",
    "from nltk.stem.snowball import SnowballStemmer\n",
    "from pyspark.sql.types import ArrayType, StringType\n",
    "\n",
    "stemmer = SnowballStemmer(language='english')\n",
    "stemmer_udf = udf(lambda tokens: [stemmer.stem(token) for token in tokens], ArrayType(StringType()))\n",
    "stemmed = tweets.withColumn(\"stemmed\", stemmer_udf(\"filtered\")).select(\"stemmed\")\n",
    "stemmed.show(1, truncate=False)"
   ]
  },
  {
   "cell_type": "markdown",
   "metadata": {},
   "source": [
    "### Adding Columns to `tweets`\n",
    "We add `stemmed`,`punc`,`emojis`, and `account_years` to our updated dataset `tweets` from pipeline 1."
   ]
  },
  {
   "cell_type": "code",
   "execution_count": 28,
   "metadata": {},
   "outputs": [],
   "source": [
    "from pyspark.sql.functions import monotonically_increasing_id, row_number\n",
    "from pyspark.sql.window import Window"
   ]
  },
  {
   "cell_type": "code",
   "execution_count": 29,
   "metadata": {},
   "outputs": [],
   "source": [
    "tweets_new = tweets.withColumn('row_index', row_number().over(Window.orderBy(monotonically_increasing_id())))\n",
    "punc_new = punc.withColumn('row_index', row_number().over(Window.orderBy(monotonically_increasing_id())))\n",
    "emojis_new = emojis.withColumn('row_index', row_number().over(Window.orderBy(monotonically_increasing_id())))\n",
    "years_new=years.withColumn('row_index', row_number().over(Window.orderBy(monotonically_increasing_id())))\n",
    "stemmed_new = stemmed.withColumn('row_index', row_number().over(Window.orderBy(monotonically_increasing_id())))"
   ]
  },
  {
   "cell_type": "code",
   "execution_count": 30,
   "metadata": {},
   "outputs": [],
   "source": [
    "tweets = tweets_new.join(punc_new, on=[\"row_index\"]).join(emojis_new, on=[\"row_index\"]) \\\n",
    "            .join(years_new, on=[\"row_index\"]).join(stemmed_new, on=[\"row_index\"])"
   ]
  },
  {
   "cell_type": "code",
   "execution_count": 31,
   "metadata": {},
   "outputs": [
    {
     "data": {
      "text/plain": [
       "['row_index',\n",
       " 'gender',\n",
       " 'created',\n",
       " 'fav_number',\n",
       " 'retweet_count',\n",
       " 'text',\n",
       " 'tweet_count',\n",
       " 'tweet_created',\n",
       " 'tweet_count_new',\n",
       " 'gender_num',\n",
       " 'words',\n",
       " 'filtered',\n",
       " 'punc',\n",
       " 'emojis',\n",
       " 'account_years',\n",
       " 'stemmed']"
      ]
     },
     "execution_count": 31,
     "metadata": {},
     "output_type": "execute_result"
    }
   ],
   "source": [
    "tweets.columns"
   ]
  },
  {
   "cell_type": "code",
   "execution_count": 32,
   "metadata": {},
   "outputs": [
    {
     "name": "stdout",
     "output_type": "stream",
     "text": [
      "+------+------------------+\n",
      "|gender|avg(account_years)|\n",
      "+------+------------------+\n",
      "|  male| 3.314231301939058|\n",
      "|female| 2.886528171230721|\n",
      "| brand| 2.260234959060164|\n",
      "+------+------------------+\n",
      "\n"
     ]
    }
   ],
   "source": [
    "# account_years averages\n",
    "tweets.groupBy('gender') \\\n",
    "    .agg({'account_years':'avg'}).show()"
   ]
  },
  {
   "cell_type": "code",
   "execution_count": 33,
   "metadata": {},
   "outputs": [
    {
     "data": {
      "image/png": "[encoded data removed]",
      "text/plain": [
       "<Figure size 432x288 with 1 Axes>"
      ]
     },
     "metadata": {
      "needs_background": "light"
     },
     "output_type": "display_data"
    }
   ],
   "source": [
    "# account_years graph\n",
    "account_years_x = ['Brand', 'Female', 'Male']\n",
    "account_years_avg = [2.260234959060164, 2.886528171230721, 3.314231301939058]\n",
    "x_pos = [i for i, _ in enumerate(account_years_x)]\n",
    "plt.bar(account_years_x, account_years_avg, color=['limegreen','hotpink','deepskyblue'])\n",
    "plt.ylabel(\"Average\")\n",
    "plt.title(\"Average Number Years User Has Had Account \\n (by gender)\")\n",
    "plt.xticks(x_pos, account_years_x)\n",
    "plt.show()"
   ]
  },
  {
   "cell_type": "code",
   "execution_count": 34,
   "metadata": {},
   "outputs": [
    {
     "name": "stdout",
     "output_type": "stream",
     "text": [
      "+------+------------------+\n",
      "|gender|         avg(punc)|\n",
      "+------+------------------+\n",
      "|  male|10.401315789473685|\n",
      "|female|10.200346238589864|\n",
      "| brand|12.018867924528301|\n",
      "+------+------------------+\n",
      "\n"
     ]
    }
   ],
   "source": [
    "# punc averages\n",
    "tweets.groupBy('gender') \\\n",
    "    .agg({'punc':'avg'}).show()"
   ]
  },
  {
   "cell_type": "code",
   "execution_count": 35,
   "metadata": {},
   "outputs": [
    {
     "data": {
      "image/png": "[encoded data removed]",
      "text/plain": [
       "<Figure size 432x288 with 1 Axes>"
      ]
     },
     "metadata": {
      "needs_background": "light"
     },
     "output_type": "display_data"
    }
   ],
   "source": [
    "# punc graph\n",
    "punc_x = ['Brand', 'Female', 'Male']\n",
    "punc_avg = [12.018867924528301, 10.200346238589864, 10.401315789473685]\n",
    "x_pos = [i for i, _ in enumerate(punc_x)]\n",
    "plt.bar(punc_x, punc_avg, color=['limegreen','hotpink','deepskyblue'])\n",
    "plt.ylabel(\"Average\")\n",
    "plt.title(\"Average Number of Punctuation Marks Used \\n (by gender)\")\n",
    "plt.xticks(x_pos, punc_x)\n",
    "plt.show()"
   ]
  },
  {
   "cell_type": "markdown",
   "metadata": {},
   "source": [
    "### Top 20 Words Used by Gender"
   ]
  },
  {
   "cell_type": "code",
   "execution_count": 37,
   "metadata": {},
   "outputs": [],
   "source": [
    "import numpy as np\n",
    "import pandas as pd\n",
    "from os import path\n",
    "from PIL import Image\n",
    "from wordcloud import WordCloud, STOPWORDS, ImageColorGenerator\n",
    "import matplotlib.pyplot as plt\n",
    "from random import Random"
   ]
  },
  {
   "cell_type": "code",
   "execution_count": 38,
   "metadata": {},
   "outputs": [],
   "source": [
    "# Function to create string with all words\n",
    "def iteration(l):\n",
    "    string = ''\n",
    "    for i in range(len(l)):\n",
    "        string = string + l[i] + ' '\n",
    "    return string"
   ]
  },
  {
   "cell_type": "code",
   "execution_count": 39,
   "metadata": {},
   "outputs": [],
   "source": [
    "# Separate data into dataframes by gender\n",
    "brand_df = tweets.filter((tweets.gender == 'brand'))\n",
    "female_df = tweets.filter((tweets.gender == 'female'))\n",
    "male_df = tweets.filter((tweets.gender == 'male'))"
   ]
  },
  {
   "cell_type": "code",
   "execution_count": 40,
   "metadata": {},
   "outputs": [
    {
     "data": {
      "text/plain": [
       "[(2275, 'weather'),\n",
       " (1347, 'get'),\n",
       " (1160, 'updat'),\n",
       " (1134, 'channel.'),\n",
       " (450, '-'),\n",
       " (439, ''),\n",
       " (215, 'new'),\n",
       " (163, 'like'),\n",
       " (135, '&amp;'),\n",
       " (130, 'love'),\n",
       " (127, 'see'),\n",
       " (125, 'one'),\n",
       " (125, 'us'),\n",
       " (112, 'come'),\n",
       " (111, 'thank'),\n",
       " (111, 'look'),\n",
       " (111, 'make'),\n",
       " (103, 'go'),\n",
       " (99, 'year'),\n",
       " (97, 'via')]"
      ]
     },
     "execution_count": 40,
     "metadata": {},
     "output_type": "execute_result"
    }
   ],
   "source": [
    "# Top 20 words for brand\n",
    "brand_words = brand_df.select('stemmed').rdd.flatMap(lambda x: x).flatMap(lambda x: x)\n",
    "brand_wordcounts = brand_words.map(lambda x: (x, 1)) \\\n",
    "                  .reduceByKey(lambda x,y:x+y) \\\n",
    "                  .map(lambda x:(x[1],x[0])) \\\n",
    "                  .sortByKey(False)\n",
    "brand_wordcounts.take(20)"
   ]
  },
  {
   "cell_type": "code",
   "execution_count": 41,
   "metadata": {},
   "outputs": [
    {
     "data": {
      "image/png": "[encoded data removed]",
      "text/plain": [
       "<Figure size 432x288 with 1 Axes>"
      ]
     },
     "metadata": {
      "needs_background": "light"
     },
     "output_type": "display_data"
    }
   ],
   "source": [
    "# Brand Word Cloud\n",
    "stop_words = []\n",
    "\n",
    "brand_text = iteration(brand_wordcounts.map(lambda x: x[1]).take(20))\n",
    "brand_wordcloud = WordCloud(stopwords = stop_words, background_color=\"white\").generate(brand_text)\n",
    "\n",
    "def green_color_func(word, font_size, position,orientation,random_state=None, **kwargs):\n",
    "    return(\"hsl(100, 75%%, %d%%)\" % np.random.randint(40,50))\n",
    "\n",
    "# Display the generated image:\n",
    "plt.imshow(brand_wordcloud.recolor(color_func = green_color_func), interpolation='bilinear')\n",
    "plt.axis(\"off\")\n",
    "plt.show()"
   ]
  },
  {
   "cell_type": "code",
   "execution_count": 42,
   "metadata": {},
   "outputs": [
    {
     "data": {
      "text/plain": [
       "[(419, 'get'),\n",
       " (418, 'like'),\n",
       " (394, ''),\n",
       " (357, 'go'),\n",
       " (322, 'love'),\n",
       " (315, '_���'),\n",
       " (304, 'one'),\n",
       " (242, 'day'),\n",
       " (235, 'want'),\n",
       " (225, 'make'),\n",
       " (222, 'time'),\n",
       " (209, 'peopl'),\n",
       " (189, 'look'),\n",
       " (187, 'know'),\n",
       " (173, '-'),\n",
       " (173, 'got'),\n",
       " (168, 'new'),\n",
       " (159, 'need'),\n",
       " (158, 'see'),\n",
       " (158, 'best')]"
      ]
     },
     "execution_count": 42,
     "metadata": {},
     "output_type": "execute_result"
    }
   ],
   "source": [
    "# Top 20 words for female\n",
    "female_words = female_df.select('stemmed').rdd.flatMap(lambda x: x).flatMap(lambda x: x)\n",
    "female_wordcounts = female_words.map(lambda x: (x, 1)) \\\n",
    "                  .reduceByKey(lambda x,y:x+y) \\\n",
    "                  .map(lambda x:(x[1],x[0])) \\\n",
    "                  .sortByKey(False)\n",
    "female_wordcounts.take(20)"
   ]
  },
  {
   "cell_type": "code",
   "execution_count": 43,
   "metadata": {},
   "outputs": [
    {
     "data": {
      "image/png": "[encoded data removed]",
      "text/plain": [
       "<Figure size 432x288 with 1 Axes>"
      ]
     },
     "metadata": {
      "needs_background": "light"
     },
     "output_type": "display_data"
    }
   ],
   "source": [
    "# Female Word Cloud\n",
    "female_text = iteration(female_wordcounts.map(lambda x: x[1]).take(20))\n",
    "female_wordcloud = WordCloud(stopwords = stop_words, background_color=\"white\").generate(female_text)\n",
    "\n",
    "def pink_color_func(word, font_size, position,orientation,random_state=None, **kwargs):\n",
    "    return(\"hsl(320,150%%, %d%%)\" % np.random.randint(40,80))\n",
    "\n",
    "# Display the generated image:\n",
    "plt.imshow(female_wordcloud.recolor(color_func = pink_color_func), interpolation='bilinear')\n",
    "plt.axis(\"off\")\n",
    "plt.show()"
   ]
  },
  {
   "cell_type": "code",
   "execution_count": 44,
   "metadata": {},
   "outputs": [
    {
     "data": {
      "text/plain": [
       "[(469, ''),\n",
       " (391, 'get'),\n",
       " (334, 'like'),\n",
       " (290, '-'),\n",
       " (270, 'go'),\n",
       " (237, 'one'),\n",
       " (195, 'love'),\n",
       " (188, 'time'),\n",
       " (186, 'new'),\n",
       " (184, 'make'),\n",
       " (175, 'look'),\n",
       " (173, 'see'),\n",
       " (165, 'know'),\n",
       " (161, 'peopl'),\n",
       " (155, 'want'),\n",
       " (155, 'think'),\n",
       " (154, 'good'),\n",
       " (148, 'need'),\n",
       " (143, 'got'),\n",
       " (141, 'day')]"
      ]
     },
     "execution_count": 44,
     "metadata": {},
     "output_type": "execute_result"
    }
   ],
   "source": [
    "# Top 20 words for male\n",
    "male_words = male_df.select('stemmed').rdd.flatMap(lambda x: x).flatMap(lambda x: x)\n",
    "male_wordcounts = male_words.map(lambda x: (x, 1)) \\\n",
    "                  .reduceByKey(lambda x,y:x+y) \\\n",
    "                  .map(lambda x:(x[1],x[0])) \\\n",
    "                  .sortByKey(False)\n",
    "male_wordcounts.take(20)"
   ]
  },
  {
   "cell_type": "code",
   "execution_count": 45,
   "metadata": {},
   "outputs": [
    {
     "data": {
      "image/png": "[encoded data removed]",
      "text/plain": [
       "<Figure size 432x288 with 1 Axes>"
      ]
     },
     "metadata": {
      "needs_background": "light"
     },
     "output_type": "display_data"
    }
   ],
   "source": [
    "# Male Word Cloud\n",
    "male_text = iteration(male_wordcounts.map(lambda x: x[1]).take(20))\n",
    "male_wordcloud = WordCloud(stopwords = stop_words, background_color=\"white\").generate(male_text)\n",
    "\n",
    "def blue_color_func(word, font_size, position,orientation,random_state=None, **kwargs):\n",
    "    return(\"hsl(205,250%%, %d%%)\" % np.random.randint(30,80))\n",
    "\n",
    "# Display the generated image:\n",
    "plt.imshow(male_wordcloud.recolor(color_func = blue_color_func), interpolation='bilinear')\n",
    "plt.axis(\"off\")\n",
    "plt.show()"
   ]
  },
  {
   "cell_type": "markdown",
   "metadata": {},
   "source": [
    "### Pipeline 2\n",
    "For our second pipeline we:\n",
    "- compute term frequency vector for `stemmed`\n",
    "- create `bigrams` from `stemmed`\n",
    "- compute term frequency vector for `bigrams`\n",
    "- combine all relevant columns into `features` using VectorAssembler\n",
    "- scale `features`"
   ]
  },
  {
   "cell_type": "code",
   "execution_count": 46,
   "metadata": {},
   "outputs": [],
   "source": [
    "tf = HashingTF(inputCol=\"stemmed\", outputCol=\"tf\") #term frequencies for words\n",
    "\n",
    "bigrams = NGram(n=2, inputCol=\"stemmed\", outputCol=\"bigrams\") #create bigrams\n",
    "btf = HashingTF(inputCol=\"bigrams\", outputCol=\"btf\") #term frequencies for bigrams\n",
    "\n",
    "# create features column\n",
    "va = VectorAssembler(inputCols=[\"tf\", \"btf\", \"punc\", \"emojis\", \"tweet_count_new\", \"fav_number\", \n",
    "                                \"retweet_count\", \"account_years\"], outputCol=\"features\")\n",
    "\n",
    "# scale features\n",
    "scaler1 = StandardScaler(inputCol=\"features\", outputCol=\"scaledFeatures\")\n",
    "scaler2 = StandardScaler(inputCol=\"tf\", outputCol=\"scaledTF\")\n",
    "\n",
    "# build pipeline\n",
    "pipeline = Pipeline(stages=[tf, bigrams, btf, va, scaler1, scaler2])\n",
    "\n",
    "# fit & tranform pipeline\n",
    "tweets = pipeline.fit(tweets).transform(tweets)"
   ]
  },
  {
   "cell_type": "code",
   "execution_count": 47,
   "metadata": {},
   "outputs": [
    {
     "data": {
      "text/plain": [
       "['row_index',\n",
       " 'gender',\n",
       " 'created',\n",
       " 'fav_number',\n",
       " 'retweet_count',\n",
       " 'text',\n",
       " 'tweet_count',\n",
       " 'tweet_created',\n",
       " 'tweet_count_new',\n",
       " 'gender_num',\n",
       " 'words',\n",
       " 'filtered',\n",
       " 'punc',\n",
       " 'emojis',\n",
       " 'account_years',\n",
       " 'stemmed',\n",
       " 'tf',\n",
       " 'bigrams',\n",
       " 'btf',\n",
       " 'features',\n",
       " 'scaledFeatures',\n",
       " 'scaledTF']"
      ]
     },
     "execution_count": 47,
     "metadata": {},
     "output_type": "execute_result"
    }
   ],
   "source": [
    "tweets.columns"
   ]
  },
  {
   "cell_type": "markdown",
   "metadata": {},
   "source": [
    "# Model Construction and Evaluation"
   ]
  },
  {
   "cell_type": "markdown",
   "metadata": {},
   "source": [
    "### Benchmark Model\n",
    "Our benchmark model is a multinomial logistic regression model with `scaledTF`, term frequency of tweets, as our only feature."
   ]
  },
  {
   "cell_type": "code",
   "execution_count": 48,
   "metadata": {},
   "outputs": [
    {
     "data": {
      "text/plain": [
       "DataFrame[features: vector, label: double]"
      ]
     },
     "execution_count": 48,
     "metadata": {},
     "output_type": "execute_result"
    }
   ],
   "source": [
    "text = tweets.select(\"scaledTF\", \"gender_num\") \\\n",
    "        .withColumnRenamed('gender_num', 'label').withColumnRenamed('scaledTF', 'features')\n",
    "text.cache()"
   ]
  },
  {
   "cell_type": "code",
   "execution_count": 49,
   "metadata": {},
   "outputs": [],
   "source": [
    "# Split data\n",
    "(bench_training, bench_test) = text.randomSplit([0.7,0.3], seed=314)"
   ]
  },
  {
   "cell_type": "code",
   "execution_count": 50,
   "metadata": {},
   "outputs": [],
   "source": [
    "from pyspark.ml.classification import LogisticRegression\n",
    "from pyspark.ml.tuning import CrossValidator, ParamGridBuilder\n",
    "from pyspark.ml.evaluation import MulticlassClassificationEvaluator"
   ]
  },
  {
   "cell_type": "code",
   "execution_count": 51,
   "metadata": {},
   "outputs": [
    {
     "name": "stdout",
     "output_type": "stream",
     "text": [
      "Accuracy = 0.4881437569470174\n"
     ]
    }
   ],
   "source": [
    "lr = LogisticRegression(maxIter=10)\n",
    "lrModel = lr.fit(bench_training)\n",
    "predictions = lrModel.transform(bench_test)\n",
    "\n",
    "evaluator = MulticlassClassificationEvaluator(labelCol=\"label\",predictionCol=\"prediction\",\n",
    "                                              metricName=\"accuracy\")\n",
    "accuracy = evaluator.evaluate(predictions)\n",
    "print(\"Accuracy = \" + str(accuracy))"
   ]
  },
  {
   "cell_type": "code",
   "execution_count": null,
   "metadata": {},
   "outputs": [],
   "source": [
    "# model = log_reg.fit(df)\n",
    "plt.figure(figsize=(5,5))\n",
    "plt.plot([0, 1], [0, 1], 'r--')\n",
    "plt.plot(lrModel.summary.roc.select('FPR').collect(),\n",
    "         lrModel.summary.roc.select('TPR').collect())\n",
    "plt.xlabel('FPR')\n",
    "plt.ylabel('TPR')\n",
    "plt.show()"
   ]
  },
  {
   "cell_type": "code",
   "execution_count": 78,
   "metadata": {},
   "outputs": [
    {
     "data": {
      "text/plain": [
       "0.468788755684167"
      ]
     },
     "execution_count": 78,
     "metadata": {},
     "output_type": "execute_result"
    }
   ],
   "source": [
    "evaluator.setMetricName(\"precisionByLabel\")\n",
    "precision = evaluator.evaluate(predictions)\n",
    "precision"
   ]
  },
  {
   "cell_type": "code",
   "execution_count": 79,
   "metadata": {},
   "outputs": [
    {
     "data": {
      "text/plain": [
       "0.4883944575146466"
      ]
     },
     "execution_count": 79,
     "metadata": {},
     "output_type": "execute_result"
    }
   ],
   "source": [
    "evaluator.setMetricName(\"f1\")\n",
    "f1 = evaluator.evaluate(predictions)\n",
    "f1"
   ]
  },
  {
   "cell_type": "code",
   "execution_count": 80,
   "metadata": {},
   "outputs": [
    {
     "data": {
      "text/plain": [
       "0.5878693623639192"
      ]
     },
     "execution_count": 80,
     "metadata": {},
     "output_type": "execute_result"
    }
   ],
   "source": [
    "evaluator.setMetricName(\"recallByLabel\")\n",
    "recall = evaluator.evaluate(predictions)\n",
    "recall"
   ]
  },
  {
   "cell_type": "code",
   "execution_count": 81,
   "metadata": {},
   "outputs": [
    {
     "data": {
      "text/plain": [
       "[[0.5878693623639192, 0.6295762467569905],\n",
       " [0.3704237532430095, 0.4121306376360808]]"
      ]
     },
     "execution_count": 81,
     "metadata": {},
     "output_type": "execute_result"
    }
   ],
   "source": [
    "# construct confusion matrix\n",
    "evaluator.setMetricName(\"truePositiveRateByLabel\")\n",
    "TP = evaluator.evaluate(predictions)\n",
    "TN = 1-TP\n",
    "\n",
    "evaluator.setMetricName(\"falsePositiveRateByLabel\")\n",
    "FP = evaluator.evaluate(predictions)\n",
    "FN = 1-FP\n",
    "\n",
    "confusion_matrix = [[TP, FN], [FP, TN]]\n",
    "confusion_matrix"
   ]
  },
  {
   "cell_type": "markdown",
   "metadata": {},
   "source": [
    "### Models with All Features\n",
    "Now, we will create 4 models using all our features (`tf`, `btf`, `punc`, `emojis`, `tweet_count_new`, `fav_number`, `retweet_count`, `account_years`)."
   ]
  },
  {
   "cell_type": "code",
   "execution_count": 82,
   "metadata": {},
   "outputs": [
    {
     "data": {
      "text/plain": [
       "DataFrame[features: vector, label: double]"
      ]
     },
     "execution_count": 82,
     "metadata": {},
     "output_type": "execute_result"
    }
   ],
   "source": [
    "final = tweets.select(\"scaledFeatures\", \"gender_num\") \\\n",
    "        .withColumnRenamed('gender_num', 'label').withColumnRenamed('scaledFeatures', 'features')\n",
    "final.cache()"
   ]
  },
  {
   "cell_type": "code",
   "execution_count": 83,
   "metadata": {},
   "outputs": [
    {
     "name": "stdout",
     "output_type": "stream",
     "text": [
      "Count of training set = 12350\n",
      "Count of test set = 5398\n"
     ]
    }
   ],
   "source": [
    "# Split data\n",
    "(training, test) = final.randomSplit([0.7,0.3], seed=314)\n",
    "print(\"Count of training set = \" + str(training.count()))\n",
    "print(\"Count of test set = \" + str(test.count()))"
   ]
  },
  {
   "cell_type": "markdown",
   "metadata": {},
   "source": [
    "### Multinomial Logistic Regression"
   ]
  },
  {
   "cell_type": "code",
   "execution_count": 84,
   "metadata": {},
   "outputs": [
    {
     "name": "stdout",
     "output_type": "stream",
     "text": [
      "Accuracy = 0.4857354575768803\n"
     ]
    }
   ],
   "source": [
    "lr = LogisticRegression(maxIter=10)\n",
    "lrModel = lr.fit(training)\n",
    "prediction_lr = lrModel.transform(test)\n",
    "\n",
    "evaluator = MulticlassClassificationEvaluator(labelCol=\"label\",predictionCol=\"prediction\",\n",
    "                                              metricName=\"accuracy\")\n",
    "accuracy_lr = evaluator.evaluate(prediction_lr)\n",
    "print(\"Accuracy = \" + str(accuracy_lr))"
   ]
  },
  {
   "cell_type": "code",
   "execution_count": 85,
   "metadata": {},
   "outputs": [
    {
     "data": {
      "text/plain": [
       "0.44959320834807215"
      ]
     },
     "execution_count": 85,
     "metadata": {},
     "output_type": "execute_result"
    }
   ],
   "source": [
    "evaluator.setMetricName(\"precisionByLabel\")\n",
    "precision = evaluator.evaluate(prediction_lr)\n",
    "precision"
   ]
  },
  {
   "cell_type": "code",
   "execution_count": 86,
   "metadata": {},
   "outputs": [
    {
     "data": {
      "text/plain": [
       "0.4818894644643895"
      ]
     },
     "execution_count": 86,
     "metadata": {},
     "output_type": "execute_result"
    }
   ],
   "source": [
    "evaluator.setMetricName(\"f1\")\n",
    "f1 = evaluator.evaluate(prediction_lr)\n",
    "f1"
   ]
  },
  {
   "cell_type": "code",
   "execution_count": 87,
   "metadata": {},
   "outputs": [
    {
     "data": {
      "text/plain": [
       "0.6606029106029107"
      ]
     },
     "execution_count": 87,
     "metadata": {},
     "output_type": "execute_result"
    }
   ],
   "source": [
    "evaluator.setMetricName(\"recallByLabel\")\n",
    "recall = evaluator.evaluate(prediction_lr)\n",
    "recall"
   ]
  },
  {
   "cell_type": "code",
   "execution_count": 88,
   "metadata": {},
   "outputs": [
    {
     "data": {
      "text/plain": [
       "[[0.6606029106029107, 0.5521013241220495],\n",
       " [0.4478986758779505, 0.33939708939708935]]"
      ]
     },
     "execution_count": 88,
     "metadata": {},
     "output_type": "execute_result"
    }
   ],
   "source": [
    "# construct confusion matrix\n",
    "evaluator.setMetricName(\"truePositiveRateByLabel\")\n",
    "TP = evaluator.evaluate(prediction_lr)\n",
    "TN = 1-TP\n",
    "\n",
    "evaluator.setMetricName(\"falsePositiveRateByLabel\")\n",
    "FP = evaluator.evaluate(prediction_lr)\n",
    "FN = 1-FP\n",
    "\n",
    "confusion_matrix = [[TP, FN], [FP, TN]]\n",
    "confusion_matrix"
   ]
  },
  {
   "cell_type": "markdown",
   "metadata": {},
   "source": [
    "### Random Forest"
   ]
  },
  {
   "cell_type": "code",
   "execution_count": 94,
   "metadata": {},
   "outputs": [
    {
     "name": "stdout",
     "output_type": "stream",
     "text": [
      "Accuracy = 0.4227491663579103\n"
     ]
    }
   ],
   "source": [
    "from pyspark.ml.classification import RandomForestClassifier\n",
    "\n",
    "rf = RandomForestClassifier(labelCol=\"label\", featuresCol=\"features\", numTrees=10)\n",
    "rfModel = rf.fit(training)\n",
    "prediction_rf = rfModel.transform(test)\n",
    "\n",
    "evaluator = MulticlassClassificationEvaluator(labelCol=\"label\",predictionCol=\"prediction\",\n",
    "                                              metricName=\"accuracy\")\n",
    "accuracy_rf = evaluator.evaluate(prediction_rf)\n",
    "print(\"Accuracy = \" + str(accuracy_rf))"
   ]
  },
  {
   "cell_type": "code",
   "execution_count": 95,
   "metadata": {},
   "outputs": [
    {
     "data": {
      "text/plain": [
       "0.3838852988691438"
      ]
     },
     "execution_count": 95,
     "metadata": {},
     "output_type": "execute_result"
    }
   ],
   "source": [
    "evaluator.setMetricName(\"precisionByLabel\")\n",
    "precision = evaluator.evaluate(prediction_rf)\n",
    "precision"
   ]
  },
  {
   "cell_type": "code",
   "execution_count": 96,
   "metadata": {},
   "outputs": [
    {
     "data": {
      "text/plain": [
       "0.3128205247956701"
      ]
     },
     "execution_count": 96,
     "metadata": {},
     "output_type": "execute_result"
    }
   ],
   "source": [
    "evaluator.setMetricName(\"f1\")\n",
    "f1 = evaluator.evaluate(prediction_rf)\n",
    "f1"
   ]
  },
  {
   "cell_type": "code",
   "execution_count": 97,
   "metadata": {},
   "outputs": [
    {
     "data": {
      "text/plain": [
       "0.988045738045738"
      ]
     },
     "execution_count": 97,
     "metadata": {},
     "output_type": "execute_result"
    }
   ],
   "source": [
    "evaluator.setMetricName(\"recallByLabel\")\n",
    "recall = evaluator.evaluate(prediction_rf)\n",
    "recall"
   ]
  },
  {
   "cell_type": "code",
   "execution_count": 98,
   "metadata": {},
   "outputs": [
    {
     "data": {
      "text/plain": [
       "[[0.988045738045738, 0.12176165803108807],\n",
       " [0.8782383419689119, 0.011954261954261969]]"
      ]
     },
     "execution_count": 98,
     "metadata": {},
     "output_type": "execute_result"
    }
   ],
   "source": [
    "# construct confusion matrix\n",
    "evaluator.setMetricName(\"truePositiveRateByLabel\")\n",
    "TP = evaluator.evaluate(prediction_rf)\n",
    "TN = 1-TP\n",
    "\n",
    "evaluator.setMetricName(\"falsePositiveRateByLabel\")\n",
    "FP = evaluator.evaluate(prediction_rf)\n",
    "FN = 1-FP\n",
    "\n",
    "confusion_matrix = [[TP, FN], [FP, TN]]\n",
    "confusion_matrix"
   ]
  },
  {
   "cell_type": "markdown",
   "metadata": {},
   "source": [
    "### Naive Bayes"
   ]
  },
  {
   "cell_type": "code",
   "execution_count": 89,
   "metadata": {},
   "outputs": [
    {
     "name": "stdout",
     "output_type": "stream",
     "text": [
      "Accuracy = 0.46054094108929233\n"
     ]
    }
   ],
   "source": [
    "from pyspark.ml.classification import NaiveBayes\n",
    "\n",
    "nb = NaiveBayes(smoothing=1.0, modelType=\"multinomial\")\n",
    "nbModel = nb.fit(training)\n",
    "prediction_nb = nbModel.transform(test)\n",
    "\n",
    "evaluator = MulticlassClassificationEvaluator(labelCol=\"label\",predictionCol=\"prediction\",\n",
    "                                              metricName=\"accuracy\")\n",
    "accuracy_nb = evaluator.evaluate(prediction_nb)\n",
    "print(\"Accuracy = \" + str(accuracy_nb))"
   ]
  },
  {
   "cell_type": "code",
   "execution_count": 90,
   "metadata": {},
   "outputs": [
    {
     "data": {
      "text/plain": [
       "0.4772475027746948"
      ]
     },
     "execution_count": 90,
     "metadata": {},
     "output_type": "execute_result"
    }
   ],
   "source": [
    "evaluator.setMetricName(\"precisionByLabel\")\n",
    "precision = evaluator.evaluate(prediction_nb)\n",
    "precision"
   ]
  },
  {
   "cell_type": "code",
   "execution_count": 91,
   "metadata": {},
   "outputs": [
    {
     "data": {
      "text/plain": [
       "0.4563733242404474"
      ]
     },
     "execution_count": 91,
     "metadata": {},
     "output_type": "execute_result"
    }
   ],
   "source": [
    "evaluator.setMetricName(\"f1\")\n",
    "f1 = evaluator.evaluate(prediction_nb)\n",
    "f1"
   ]
  },
  {
   "cell_type": "code",
   "execution_count": 92,
   "metadata": {},
   "outputs": [
    {
     "data": {
      "text/plain": [
       "0.446985446985447"
      ]
     },
     "execution_count": 92,
     "metadata": {},
     "output_type": "execute_result"
    }
   ],
   "source": [
    "evaluator.setMetricName(\"recallByLabel\")\n",
    "recall = evaluator.evaluate(prediction_nb)\n",
    "recall"
   ]
  },
  {
   "cell_type": "code",
   "execution_count": 93,
   "metadata": {},
   "outputs": [
    {
     "data": {
      "text/plain": [
       "[[0.446985446985447, 0.7288428324697755],\n",
       " [0.2711571675302245, 0.5530145530145529]]"
      ]
     },
     "execution_count": 93,
     "metadata": {},
     "output_type": "execute_result"
    }
   ],
   "source": [
    "# construct confusion matrix\n",
    "evaluator.setMetricName(\"truePositiveRateByLabel\")\n",
    "TP = evaluator.evaluate(prediction_nb)\n",
    "TN = 1-TP\n",
    "\n",
    "evaluator.setMetricName(\"falsePositiveRateByLabel\")\n",
    "FP = evaluator.evaluate(prediction_nb)\n",
    "FN = 1-FP\n",
    "\n",
    "confusion_matrix = [[TP, FN], [FP, TN]]\n",
    "confusion_matrix"
   ]
  },
  {
   "cell_type": "markdown",
   "metadata": {},
   "source": [
    "### KMeans"
   ]
  },
  {
   "cell_type": "code",
   "execution_count": 89,
   "metadata": {},
   "outputs": [
    {
     "name": "stdout",
     "output_type": "stream",
     "text": [
      "Silhouette Squared Euclidean Distance = 0.07655199945559364\n"
     ]
    }
   ],
   "source": [
    "from pyspark.ml.clustering import BisectingKMeans\n",
    "from pyspark.ml.evaluation import ClusteringEvaluator\n",
    "\n",
    "km = BisectingKMeans().setK(3).setSeed(1)\n",
    "kmModel = km.fit(training)\n",
    "predictions_km = kmModel.transform(test)\n",
    "\n",
    "evaluator = ClusteringEvaluator()\n",
    "distance = evaluator.evaluate(predictions_km)\n",
    "print(\"Silhouette Squared Euclidean Distance = \" + str(distance))"
   ]
  },
  {
   "cell_type": "code",
   "execution_count": 91,
   "metadata": {},
   "outputs": [
    {
     "name": "stdout",
     "output_type": "stream",
     "text": [
      "Multinomial Logistic Regression Accuracy = 0.4857354575768803\n",
      "Random Forest Accuracy = 0.3725453871804372\n",
      "Naive Bayes Accuracy = 0.46054094108929233\n",
      "KMeans Squared Euclidean Distance = 0.07655199945559364\n"
     ]
    }
   ],
   "source": [
    "print(\"Multinomial Logistic Regression Accuracy = \" + str(accuracy_lr))\n",
    "print(\"Random Forest Accuracy = \" + str(accuracy_rf))\n",
    "print(\"Naive Bayes Accuracy = \" + str(accuracy_nb))\n",
    "print(\"KMeans Squared Euclidean Distance = \" + str(distance))"
   ]
  },
  {
   "cell_type": "markdown",
   "metadata": {},
   "source": [
    "### Cross Validation for Champion Model: Multinomial Logistic Regression"
   ]
  },
  {
   "cell_type": "code",
   "execution_count": 54,
   "metadata": {},
   "outputs": [],
   "source": [
    "estimator = LogisticRegression(maxIter=10)\n",
    "\n",
    "# parameter grid\n",
    "paramGrid = ParamGridBuilder() \\\n",
    "    .addGrid(estimator.regParam, [0.1, 0.01]) \\\n",
    "    .build()\n",
    "\n",
    "# 2-Fold Cross Validation w/ Logistic Regression estimator\n",
    "crossval = CrossValidator(estimator=estimator,\n",
    "                          estimatorParamMaps=paramGrid,\n",
    "                          evaluator=MulticlassClassificationEvaluator(),\n",
    "                          numFolds=2)\n",
    "\n",
    "cvModel = crossval.fit(training)\n",
    "predictions_cv = cvModel.transform(test)"
   ]
  },
  {
   "cell_type": "code",
   "execution_count": 55,
   "metadata": {},
   "outputs": [
    {
     "name": "stdout",
     "output_type": "stream",
     "text": [
      "Accuracy = 0.49203408669877735\n"
     ]
    }
   ],
   "source": [
    "evaluator = MulticlassClassificationEvaluator(labelCol=\"label\",predictionCol=\"prediction\",\n",
    "                                              metricName=\"accuracy\")\n",
    "\n",
    "accuracy_cv = evaluator.evaluate(predictions_cv)\n",
    "print(\"Accuracy = \" + str(accuracy_cv))"
   ]
  },
  {
   "cell_type": "markdown",
   "metadata": {},
   "source": [
    "### Cross Validation: Benchmark Model"
   ]
  },
  {
   "cell_type": "code",
   "execution_count": 99,
   "metadata": {},
   "outputs": [],
   "source": [
    "estimator = LogisticRegression(maxIter=10)\n",
    "\n",
    "# parameter grid\n",
    "paramGrid = ParamGridBuilder() \\\n",
    "    .addGrid(estimator.regParam, [0.1, 0.01]) \\\n",
    "    .build()\n",
    "\n",
    "# 2-Fold Cross Validation w/ Logistic Regression estimator\n",
    "crossval = CrossValidator(estimator=estimator,\n",
    "                          estimatorParamMaps=paramGrid,\n",
    "                          evaluator=MulticlassClassificationEvaluator(),\n",
    "                          numFolds=2)\n",
    "\n",
    "cvModel_b = crossval.fit(bench_training)\n",
    "predictions_cvb = cvModel_b.transform(bench_test)"
   ]
  },
  {
   "cell_type": "code",
   "execution_count": 100,
   "metadata": {},
   "outputs": [
    {
     "name": "stdout",
     "output_type": "stream",
     "text": [
      "Accuracy = 0.5009262689885142\n"
     ]
    }
   ],
   "source": [
    "evaluator = MulticlassClassificationEvaluator(labelCol=\"label\",predictionCol=\"prediction\",\n",
    "                                              metricName=\"accuracy\")\n",
    "\n",
    "accuracy_cvb = evaluator.evaluate(predictions_cvb)\n",
    "print(\"Accuracy = \" + str(accuracy_cvb))"
   ]
  },
  {
   "cell_type": "code",
   "execution_count": null,
   "metadata": {},
   "outputs": [],
   "source": []
  }
 ],
 "metadata": {
  "kernelspec": {
   "display_name": "Python 3",
   "language": "python",
   "name": "python3"
  },
  "language_info": {
   "codemirror_mode": {
    "name": "ipython",
    "version": 3
   },
   "file_extension": ".py",
   "mimetype": "text/x-python",
   "name": "python",
   "nbconvert_exporter": "python",
   "pygments_lexer": "ipython3",
   "version": "3.7.3"
  }
 },
 "nbformat": 4,
 "nbformat_minor": 4
}
